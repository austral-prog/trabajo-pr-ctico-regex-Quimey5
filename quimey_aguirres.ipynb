{
 "cells": [
  {
   "cell_type": "code",
   "execution_count": 3,
   "id": "98bce14f-98b2-4855-99c3-284c9f0f1322",
   "metadata": {},
   "outputs": [],
   "source": [
    "import re\n",
    "\n",
    "s = \"\"\"\n",
    "\n",
    "Once upon a time, in the enchanted land of Regexville, there lived a group of intrepid explorers.\n",
    "Their leader, Alice, was known for her love of adventure and her trusty email address, alice@example.com.\n",
    "Her phone number, 123-456-7890, was her lifeline in times of trouble.\n",
    "One day, Alice received a mysterious letter with today's date: 08/10/2023. The letter hinted at an upcoming quest.\n",
    "The explorers gathered at the local inn, where they found a weathered map marked with a hashtag: #adventure.\n",
    "The map pointed to a hidden treasure on the website https://www.treasurehunt.com. The inn's address was 123 Main Street, Regexville, ZIP: 12345-6789.\n",
    "Their journey took them through the ancient forest, where they stumbled upon a cave with cryptic inscriptions:\n",
    "\"Python is amazing!\" and \"Java is equally fascinating!\" The explorers knew they were on the right path.\n",
    "Inside the cave, they found a device with the IP address 192.168.1.1 and a MAC addres of 00-B0-D0-63-C2-26, which held valuable clues.\n",
    "\n",
    "Among the explorers, there was a wordsmith who loved finding words with three consecutive vowels:\n",
    "\"boasting,\" \"quizzical,\" \"genuine,\" and \"queue\" were some of his favorites.\n",
    "As they continued their adventure, they encountered Lorem Ipsum, a lorem ipsum generator who spoke in Latin:\n",
    "\"Lorem ipsum dolor sit amet, consectetur adipiscing elit.\"\n",
    "In their pursuit, they stumbled upon an ancient book with mysterious ISBN-10 and ISBN-13 numbers:\n",
    "ISBN-10: 123456789X and ISBN-13: 978-1234567890.\n",
    "Their journey was filled with unexpected twists and turns, much like the regex patterns they used to decipher clues.\n",
    "After a long day, the explorers gathered around a campfire, sharing tales of their encounters. They realized that every step of their adventure was a puzzle waiting to be solved, just like the regex challenges they had conquered.\n",
    "As they drifted off to sleep under a starlit sky, they knew that their quest for treasure and knowledge had only just begun, and the magic of Regexville would continue to guide their way.\n",
    "\n",
    "\"\"\""
   ]
  },
  {
   "cell_type": "markdown",
   "id": "514f802a-9b85-4457-80b4-b53623832bb2",
   "metadata": {},
   "source": [
    "#### Write a Python program that matches and prints all words that start with the letter 'A' in a given text."
   ]
  },
  {
   "cell_type": "code",
   "execution_count": 2,
   "id": "db4c55db-2416-43bc-83b3-07eea37df2d7",
   "metadata": {
    "scrolled": true
   },
   "outputs": [
    {
     "name": "stdout",
     "output_type": "stream",
     "text": [
      "['Alice', 'Alice', 'Among', 'As', 'After', 'As']\n"
     ]
    }
   ],
   "source": [
    "print(re.findall(r'\\b[A]\\w+\\b',s))"
   ]
  },
  {
   "cell_type": "markdown",
   "id": "964905ba-bcb1-4c2e-9a21-224e68728094",
   "metadata": {},
   "source": [
    "#### Create a Python program to validate email addresses. The program should check if a given string is a valid email address or not."
   ]
  },
  {
   "cell_type": "code",
   "execution_count": 17,
   "id": "4b499ed5-e972-4116-a721-dbfb29e781d5",
   "metadata": {},
   "outputs": [
    {
     "name": "stdout",
     "output_type": "stream",
     "text": [
      "['alice@example']\n"
     ]
    }
   ],
   "source": [
    "print(re.findall(r'\\w+@\\w+',s))"
   ]
  },
  {
   "cell_type": "markdown",
   "id": "9e6e0450-214b-40c6-a474-6dff2c41ee43",
   "metadata": {},
   "source": [
    "#### Write a Python program to find and count all the digits in a given text."
   ]
  },
  {
   "cell_type": "code",
   "execution_count": 21,
   "id": "ec71a1d9-d971-4119-9124-a3f993069eeb",
   "metadata": {},
   "outputs": [
    {
     "name": "stdout",
     "output_type": "stream",
     "text": [
      "['123', '456', '7890', '08', '10', '2023', '123', '12345', '6789', '192', '168', '1', '1', '00', '0', '0', '63', '2', '26', '10', '13', '10', '123456789', '13', '978', '1234567890']\n"
     ]
    }
   ],
   "source": [
    "print(re.findall(r'\\d+',s))"
   ]
  },
  {
   "cell_type": "markdown",
   "id": "5ba7033a-f85c-4ff9-9696-1a069beda9fb",
   "metadata": {},
   "source": [
    "#### Create a Python program that extracts all the URLs (http:// or https://) from a given text."
   ]
  },
  {
   "cell_type": "code",
   "execution_count": 16,
   "id": "084f2eb3-e67c-45bd-8460-b113b6794e82",
   "metadata": {},
   "outputs": [
    {
     "name": "stdout",
     "output_type": "stream",
     "text": [
      "['https://www.treasurehunt.com. ']\n"
     ]
    }
   ],
   "source": [
    "print(re.findall(r'https+[\\W+w+ a-z]*',s))"
   ]
  },
  {
   "cell_type": "markdown",
   "id": "04664806-5191-4a7a-bb82-be8cd0e9a77c",
   "metadata": {},
   "source": [
    "#### Write a Python program that extracts all the phone numbers (in the format xxx-xxx-xxxx) from a given text."
   ]
  },
  {
   "cell_type": "code",
   "execution_count": 21,
   "id": "a88f57ea-c034-49e3-9586-bcf1a9b795f8",
   "metadata": {},
   "outputs": [
    {
     "data": {
      "text/plain": [
       "'\\n\\nOnce upon a time, in the enchanted land of Regexville, there lived a group of intrepid explorers.\\nTheir leader, Alice, was known for her love of adventure and her trusty email address, alice@example.com.\\nHer phone number, (), was her lifeline in times of trouble.\\nOne day, Alice received a mysterious letter with today\\'s date: 08/10/2023. The letter hinted at an upcoming quest.\\nThe explorers gathered at the local inn, where they found a weathered map marked with a hashtag: #adventure.\\nThe map pointed to a hidden treasure on the website https://www.treasurehunt.com. The inn\\'s address was 123 Main Street, Regexville, ZIP: 12345-6789.\\nTheir journey took them through the ancient forest, where they stumbled upon a cave with cryptic inscriptions:\\n\"Python is amazing!\" and \"Java is equally fascinating!\" The explorers knew they were on the right path.\\nInside the cave, they found a device with the IP address 192.168.1.1 and a MAC addres of 00-B0-D0-63-C2-26, which held valuable clues.\\n\\nAmong the explorers, there was a wordsmith who loved finding words with three consecutive vowels:\\n\"boasting,\" \"quizzical,\" \"genuine,\" and \"queue\" were some of his favorites.\\nAs they continued their adventure, they encountered Lorem Ipsum, a lorem ipsum generator who spoke in Latin:\\n\"Lorem ipsum dolor sit amet, consectetur adipiscing elit.\"\\nIn their pursuit, they stumbled upon an ancient book with mysterious ISBN-10 and ISBN-13 numbers:\\nISBN-10: 123456789X and ISBN-13: 978-1234567890.\\nTheir journey was filled with unexpected twists and turns, much like the regex patterns they used to decipher clues.\\nAfter a long day, the explorers gathered around a campfire, sharing tales of their encounters. They realized that every step of their adventure was a puzzle waiting to be solved, just like the regex challenges they had conquered.\\nAs they drifted off to sleep under a starlit sky, they knew that their quest for treasure and knowledge had only just begun, and the magic of Regexville would continue to guide their way.\\n\\n'"
      ]
     },
     "execution_count": 21,
     "metadata": {},
     "output_type": "execute_result"
    }
   ],
   "source": [
    "re.sub(r'[\\d]{3}-[\\d]{3}-[\\d]{4}', \"()\",s)"
   ]
  },
  {
   "cell_type": "markdown",
   "id": "9601a4e1-beee-4c81-8f64-b8794c73d593",
   "metadata": {},
   "source": [
    "#### Write a Python program that replaces all occurrences of \"Python\" with \"Java\" in a given text."
   ]
  },
  {
   "cell_type": "code",
   "execution_count": 3,
   "id": "fc8577e1-8f37-4c29-91f1-314736687689",
   "metadata": {},
   "outputs": [
    {
     "name": "stdout",
     "output_type": "stream",
     "text": [
      "\n",
      "\n",
      "Once upon a time, in the enchanted land of Regexville, there lived a group of intrepid explorers.\n",
      "Their leader, Alice, was known for her love of adventure and her trusty email address, alice@example.com.\n",
      "Her phone number, 123-456-7890, was her lifeline in times of trouble.\n",
      "One day, Alice received a mysterious letter with today's date: 08/10/2023. The letter hinted at an upcoming quest.\n",
      "The explorers gathered at the local inn, where they found a weathered map marked with a hashtag: #adventure.\n",
      "The map pointed to a hidden treasure on the website https://www.treasurehunt.com. The inn's address was 123 Main Street, Regexville, ZIP: 12345-6789.\n",
      "Their journey took them through the ancient forest, where they stumbled upon a cave with cryptic inscriptions:\n",
      "\"Java is amazing!\" and \"Java is equally fascinating!\" The explorers knew they were on the right path.\n",
      "Inside the cave, they found a device with the IP address 192.168.1.1 and a MAC addres of 00-B0-D0-63-C2-26, which held valuable clues.\n",
      "\n",
      "Among the explorers, there was a wordsmith who loved finding words with three consecutive vowels:\n",
      "\"boasting,\" \"quizzical,\" \"genuine,\" and \"queue\" were some of his favorites.\n",
      "As they continued their adventure, they encountered Lorem Ipsum, a lorem ipsum generator who spoke in Latin:\n",
      "\"Lorem ipsum dolor sit amet, consectetur adipiscing elit.\"\n",
      "In their pursuit, they stumbled upon an ancient book with mysterious ISBN-10 and ISBN-13 numbers:\n",
      "ISBN-10: 123456789X and ISBN-13: 978-1234567890.\n",
      "Their journey was filled with unexpected twists and turns, much like the regex patterns they used to decipher clues.\n",
      "After a long day, the explorers gathered around a campfire, sharing tales of their encounters. They realized that every step of their adventure was a puzzle waiting to be solved, just like the regex challenges they had conquered.\n",
      "As they drifted off to sleep under a starlit sky, they knew that their quest for treasure and knowledge had only just begun, and the magic of Regexville would continue to guide their way.\n",
      "\n",
      "\n"
     ]
    }
   ],
   "source": [
    "print(re.sub(r'Python','Java',s))"
   ]
  },
  {
   "cell_type": "markdown",
   "id": "7b4927c7-aeaa-45b3-b188-bdeffad10427",
   "metadata": {},
   "source": [
    "#### Create a Python program to validate US ZIP codes (5 digits, optional hyphen, followed by 4 more digits)."
   ]
  },
  {
   "cell_type": "code",
   "execution_count": 20,
   "id": "1a47bad6-3a06-42d4-a8fb-5b68b9b91173",
   "metadata": {},
   "outputs": [
    {
     "name": "stdout",
     "output_type": "stream",
     "text": [
      "['12345-6789', '123456789', '123456789']\n"
     ]
    }
   ],
   "source": [
    "print(re.findall(r'\\d{5}-*\\d{4}',s))"
   ]
  },
  {
   "cell_type": "markdown",
   "id": "3fae7411-88ab-4d0f-8f90-300455f8b0f2",
   "metadata": {},
   "source": [
    "#### Write a Python program that extracts all the words with 3 or more consecutive vowels from a given text."
   ]
  },
  {
   "cell_type": "code",
   "execution_count": 20,
   "id": "8c582872-3f44-46e1-b3d5-c185a248cedb",
   "metadata": {},
   "outputs": [
    {
     "data": {
      "text/plain": [
       "'\\n\\nOnce upon a time, in the enchanted land of Regexville, there lived a group of intrepid explorers.\\nTheir leader, Alice, was known for her love of adventure and her trusty email address, alice@example.com.\\nHer phone number, 123-456-7890, was her lifeline in times of trouble.\\nOne day, Alice received a () letter with today\\'s date: 08/10/2023. The letter hinted at an upcoming quest.\\nThe explorers gathered at the local inn, where they found a weathered map marked with a hashtag: #adventure.\\nThe map pointed to a hidden treasure on the website https://www.treasurehunt.com. The inn\\'s address was 123 Main Street, Regexville, ZIP: 12345-6789.\\nTheir journey took them through the ancient forest, where they stumbled upon a cave with cryptic inscriptions:\\n\"Python is amazing!\" and \"Java is equally fascinating!\" The explorers knew they were on the right path.\\nInside the cave, they found a device with the IP address 192.168.1.1 and a MAC addres of 00-B0-D0-63-C2-26, which held valuable clues.\\n\\nAmong the explorers, there was a wordsmith who loved finding words with three consecutive vowels:\\n\"boasting,\" \"quizzical,\" \"genuine,\" and \"()\" were some of his favorites.\\nAs they continued their adventure, they encountered Lorem Ipsum, a lorem ipsum generator who spoke in Latin:\\n\"Lorem ipsum dolor sit amet, consectetur adipiscing elit.\"\\nIn their pursuit, they stumbled upon an ancient book with () ISBN-10 and ISBN-13 numbers:\\nISBN-10: 123456789X and ISBN-13: 978-1234567890.\\nTheir journey was filled with unexpected twists and turns, much like the regex patterns they used to decipher clues.\\nAfter a long day, the explorers gathered around a campfire, sharing tales of their encounters. They realized that every step of their adventure was a puzzle waiting to be solved, just like the regex challenges they had conquered.\\nAs they drifted off to sleep under a starlit sky, they knew that their quest for treasure and knowledge had only just begun, and the magic of Regexville would continue to guide their way.\\n\\n'"
      ]
     },
     "execution_count": 20,
     "metadata": {},
     "output_type": "execute_result"
    }
   ],
   "source": [
    "re.sub(r'\\w*[aeiou]{3,}\\w*\\b', \"()\", s)"
   ]
  },
  {
   "cell_type": "markdown",
   "id": "7d03b484-4ed5-4873-95a1-6968d5001479",
   "metadata": {},
   "source": [
    "#### Write a Python program that extracts all the words that are enclosed in double quotes in a given text."
   ]
  },
  {
   "cell_type": "code",
   "execution_count": 33,
   "id": "b3ccfe62-4b3c-4ead-89f7-e33b52dd43c2",
   "metadata": {},
   "outputs": [
    {
     "data": {
      "text/plain": [
       "'\\n\\nOnce upon a time, in the enchanted land of Regexville, there lived a group of intrepid explorers.\\nTheir leader, Alice, was known for her love of adventure and her trusty email address, alice@example.com.\\nHer phone number, 123-456-7890, was her lifeline in times of trouble.\\nOne day, Alice received a mysterious letter with today\\'s date: 08/10/2023. The letter hinted at an upcoming quest.\\nThe explorers gathered at the local inn, where they found a weathered map marked with a hashtag: #adventure.\\nThe map pointed to a hidden treasure on the website https://www.treasurehunt.com. The inn\\'s address was 123 Main Street, Regexville, ZIP: 12345-6789.\\nTheir journey took them through the ancient forest, where they stumbled upon a cave with cryptic inscriptions:\\n\"Python is amazing!\" and \"Java is equally fascinating!\" The explorers knew they were on the right path.\\nInside the cave, they found a device with the IP address 192.168.1.1 and a MAC addres of 00-B0-D0-63-C2-26, which held valuable clues.\\n\\nAmong the explorers, there was a wordsmith who loved finding words with three consecutive vowels:\\n() () () and () were some of his favorites.\\nAs they continued their adventure, they encountered Lorem Ipsum, a lorem ipsum generator who spoke in Latin:\\n\"Lorem ipsum dolor sit amet, consectetur adipiscing elit.\"\\nIn their pursuit, they stumbled upon an ancient book with mysterious ISBN-10 and ISBN-13 numbers:\\nISBN-10: 123456789X and ISBN-13: 978-1234567890.\\nTheir journey was filled with unexpected twists and turns, much like the regex patterns they used to decipher clues.\\nAfter a long day, the explorers gathered around a campfire, sharing tales of their encounters. They realized that every step of their adventure was a puzzle waiting to be solved, just like the regex challenges they had conquered.\\nAs they drifted off to sleep under a starlit sky, they knew that their quest for treasure and knowledge had only just begun, and the magic of Regexville would continue to guide their way.\\n\\n'"
      ]
     },
     "execution_count": 33,
     "metadata": {},
     "output_type": "execute_result"
    }
   ],
   "source": [
    "re.sub(r'\"[\\w\\d]+[,_.]*\"', \"()\", s)"
   ]
  },
  {
   "cell_type": "markdown",
   "id": "e6cb2b73-c45b-4b28-8610-57d9304ddfe5",
   "metadata": {},
   "source": [
    "#### Create a Python program that extracts all the dates in the format \"dd/mm/yyyy\" from a given text."
   ]
  },
  {
   "cell_type": "code",
   "execution_count": 24,
   "id": "cf67cec5-9f4a-42ac-866f-4f28111d2f1f",
   "metadata": {},
   "outputs": [
    {
     "data": {
      "text/plain": [
       "'\\n\\nOnce upon a time, in the enchanted land of Regexville, there lived a group of intrepid explorers.\\nTheir leader, Alice, was known for her love of adventure and her trusty email address, alice@example.com.\\nHer phone number, 123-456-7890, was her lifeline in times of trouble.\\nOne day, Alice received a mysterious letter with today\\'s date: () . The letter hinted at an upcoming quest.\\nThe explorers gathered at the local inn, where they found a weathered map marked with a hashtag: #adventure.\\nThe map pointed to a hidden treasure on the website https://www.treasurehunt.com. The inn\\'s address was 123 Main Street, Regexville, ZIP: 12345-6789.\\nTheir journey took them through the ancient forest, where they stumbled upon a cave with cryptic inscriptions:\\n\"Python is amazing!\" and \"Java is equally fascinating!\" The explorers knew they were on the right path.\\nInside the cave, they found a device with the IP address 192.168.1.1 and a MAC addres of 00-B0-D0-63-C2-26, which held valuable clues.\\n\\nAmong the explorers, there was a wordsmith who loved finding words with three consecutive vowels:\\n\"boasting,\" \"quizzical,\" \"genuine,\" and \"queue\" were some of his favorites.\\nAs they continued their adventure, they encountered Lorem Ipsum, a lorem ipsum generator who spoke in Latin:\\n\"Lorem ipsum dolor sit amet, consectetur adipiscing elit.\"\\nIn their pursuit, they stumbled upon an ancient book with mysterious ISBN-10 and ISBN-13 numbers:\\nISBN-10: 123456789X and ISBN-13: 978-1234567890.\\nTheir journey was filled with unexpected twists and turns, much like the regex patterns they used to decipher clues.\\nAfter a long day, the explorers gathered around a campfire, sharing tales of their encounters. They realized that every step of their adventure was a puzzle waiting to be solved, just like the regex challenges they had conquered.\\nAs they drifted off to sleep under a starlit sky, they knew that their quest for treasure and knowledge had only just begun, and the magic of Regexville would continue to guide their way.\\n\\n'"
      ]
     },
     "execution_count": 24,
     "metadata": {},
     "output_type": "execute_result"
    }
   ],
   "source": [
    "re.sub(r'[\\d]{2}/[\\d]{2}/[\\d]{4}', \"() \", s)"
   ]
  },
  {
   "cell_type": "markdown",
   "id": "bc8cd00e-ce8e-4ef3-a20e-e3714464a827",
   "metadata": {},
   "source": [
    "#### Write a Python program that extracts all the words that contain only lowercase letters from a given text."
   ]
  },
  {
   "cell_type": "code",
   "execution_count": 27,
   "id": "67e053c3-c06c-490d-83d2-13d5873df074",
   "metadata": {},
   "outputs": [
    {
     "data": {
      "text/plain": [
       "'\\n\\nOnce () () (), () () () () () Regexville, () () () () () () ().\\nTheir (), Alice, () () () () () () () () () () () (), ()@().().\\nHer () (), 123-456-7890, () () () () () () ().\\nOne (), Alice () () () () () ()\\'() (): 08/10/2023. The () () () () () ().\\nThe () () () () () (), () () () () () () () () () (): #().\\nThe () () () () () () () () () ()://().().(). The ()\\'() () () 123 Main Street, Regexville, ZIP: 12345-6789.\\nTheir () () () () () () (), () () () () () () () () ():\\n\"Python () ()!\" () \"Java () () ()!\" The () () () () () () () ().\\nInside () (), () () () () () () IP () 192.168.1.1 () () MAC () () 00-B0-D0-63-C2-26, () () () ().\\n\\nAmong () (), () () () () () () () () () () () ():\\n\"(),\" \"(),\" \"(),\" () \"()\" () () () () ().\\nAs () () () (), () () Lorem Ipsum, () () () () () () () Latin:\\n\"Lorem () () () (), () () ().\"\\nIn () (), () () () () () () () () ISBN-10 () ISBN-13 ():\\nISBN-10: 123456789X () ISBN-13: 978-1234567890.\\nTheir () () () () () () () (), () () () () () () () () () ().\\nAfter () () (), () () () () () (), () () () () (). They () () () () () () () () () () () () () (), () () () () () () () ().\\nAs () () () () () () () () (), () () () () () () () () () () () () (), () () () () Regexville () () () () () ().\\n\\n'"
      ]
     },
     "execution_count": 27,
     "metadata": {},
     "output_type": "execute_result"
    }
   ],
   "source": [
    "re.sub(r'\\b[a-z]+', \"()\", s)"
   ]
  },
  {
   "cell_type": "markdown",
   "id": "27138953-f3d8-4e8e-b94f-9cf60043cb76",
   "metadata": {},
   "source": [
    "#### Create a Python program that finds and prints all the hashtags (words starting with #) in a given text."
   ]
  },
  {
   "cell_type": "code",
   "execution_count": 14,
   "id": "93e50146-3390-46d7-8440-23dc4f0b5e5f",
   "metadata": {},
   "outputs": [
    {
     "data": {
      "text/plain": [
       "['#adventure']"
      ]
     },
     "execution_count": 14,
     "metadata": {},
     "output_type": "execute_result"
    }
   ],
   "source": [
    "re.findall(r'#+\\w*\\b', s)"
   ]
  },
  {
   "cell_type": "markdown",
   "id": "b73f8a8f-320a-44d7-95ee-587e48bffd17",
   "metadata": {},
   "source": [
    "#### Create a Python program to validate and extract ISBN-10 and ISBN-13 numbers from a given text."
   ]
  },
  {
   "cell_type": "code",
   "execution_count": 15,
   "id": "cf458093-044e-47f8-bdac-4d8ce22669ee",
   "metadata": {},
   "outputs": [
    {
     "data": {
      "text/plain": [
       "'\\n\\nOnce upon a time, in the enchanted land of Regexville, there lived a group of intrepid explorers.\\nTheir leader, Alice, was known for her love of adventure and her trusty email address, alice@example.com.\\nHer phone number, 123-456-7890, was her lifeline in times of trouble.\\nOne day, Alice received a mysterious letter with today\\'s date: 08/10/2023. The letter hinted at an upcoming quest.\\nThe explorers gathered at the local inn, where they found a weathered map marked with a hashtag: #adventure.\\nThe map pointed to a hidden treasure on the website https://www.treasurehunt.com. The inn\\'s address was 123 Main Street, Regexville, ZIP: 12345-6789.\\nTheir journey took them through the ancient forest, where they stumbled upon a cave with cryptic inscriptions:\\n\"Python is amazing!\" and \"Java is equally fascinating!\" The explorers knew they were on the right path.\\nInside the cave, they found a device with the IP address 192.168.1.1 and a MAC addres of 00-B0-D0-63-C2-26, which held valuable clues.\\n\\nAmong the explorers, there was a wordsmith who loved finding words with three consecutive vowels:\\n\"boasting,\" \"quizzical,\" \"genuine,\" and \"queue\" were some of his favorites.\\nAs they continued their adventure, they encountered Lorem Ipsum, a lorem ipsum generator who spoke in Latin:\\n\"Lorem ipsum dolor sit amet, consectetur adipiscing elit.\"\\nIn their pursuit, they stumbled upon an ancient book with mysterious ISBN-10 and ISBN-13 numbers:\\nISBN-10: () and ISBN-13: ().\\nTheir journey was filled with unexpected twists and turns, much like the regex patterns they used to decipher clues.\\nAfter a long day, the explorers gathered around a campfire, sharing tales of their encounters. They realized that every step of their adventure was a puzzle waiting to be solved, just like the regex challenges they had conquered.\\nAs they drifted off to sleep under a starlit sky, they knew that their quest for treasure and knowledge had only just begun, and the magic of Regexville would continue to guide their way.\\n\\n'"
      ]
     },
     "execution_count": 15,
     "metadata": {},
     "output_type": "execute_result"
    }
   ],
   "source": [
    "re.sub(r'\\d{3}-?\\d{6,}[X]?', \"()\", s)\n"
   ]
  },
  {
   "cell_type": "markdown",
   "id": "3c9198be-8c2c-446d-8ad8-ae462af90a80",
   "metadata": {},
   "source": [
    "#### Write a Python program that extracts all the words that are exactly 5 characters long from a given text."
   ]
  },
  {
   "cell_type": "code",
   "execution_count": 28,
   "id": "8f44b3b6-be95-48ab-af59-e7bc2c26a652",
   "metadata": {},
   "outputs": [
    {
     "data": {
      "text/plain": [
       "'\\n\\nOnce upon a time, in the enchanted land of Regexville, (reemplazada) (reemplazada) a (reemplazada) of intrepid explorers.\\n(reemplazada) leader, (reemplazada), was (reemplazada) for her love of adventure and her trusty (reemplazada) address, (reemplazada)@example.com.\\nHer (reemplazada) number, 123-456-7890, was her lifeline in (reemplazada) of trouble.\\nOne day, (reemplazada) received a mysterious letter with (reemplazada)\\'s date: 08/10/2023. The letter hinted at an upcoming (reemplazada).\\nThe explorers gathered at the (reemplazada) inn, (reemplazada) they (reemplazada) a weathered map marked with a hashtag: #adventure.\\nThe map pointed to a hidden treasure on the website (reemplazada)://www.treasurehunt.com. The inn\\'s address was 123 Main Street, Regexville, ZIP: (reemplazada)-6789.\\n(reemplazada) journey took them through the ancient forest, (reemplazada) they stumbled upon a cave with cryptic inscriptions:\\n\"Python is amazing!\" and \"Java is equally fascinating!\" The explorers knew they were on the (reemplazada) path.\\nInside the cave, they (reemplazada) a device with the IP address 192.168.1.1 and a MAC addres of 00-B0-D0-63-C2-26, (reemplazada) held valuable (reemplazada).\\n\\n(reemplazada) the explorers, (reemplazada) was a wordsmith who (reemplazada) finding (reemplazada) with (reemplazada) consecutive vowels:\\n\"boasting,\" \"quizzical,\" \"genuine,\" and \"(reemplazada)\" were some of his favorites.\\nAs they continued (reemplazada) adventure, they encountered (reemplazada) (reemplazada), a (reemplazada) (reemplazada) generator who (reemplazada) in (reemplazada):\\n\"(reemplazada) (reemplazada) (reemplazada) sit amet, consectetur adipiscing elit.\"\\nIn (reemplazada) pursuit, they stumbled upon an ancient book with mysterious ISBN-10 and ISBN-13 numbers:\\nISBN-10: 123456789X and ISBN-13: 978-1234567890.\\n(reemplazada) journey was filled with unexpected twists and (reemplazada), much like the (reemplazada) patterns they used to decipher (reemplazada).\\n(reemplazada) a long day, the explorers gathered around a campfire, sharing (reemplazada) of (reemplazada) encounters. They realized that (reemplazada) step of (reemplazada) adventure was a puzzle waiting to be solved, just like the (reemplazada) challenges they had conquered.\\nAs they drifted off to (reemplazada) (reemplazada) a starlit sky, they knew that (reemplazada) (reemplazada) for treasure and knowledge had only just (reemplazada), and the (reemplazada) of Regexville (reemplazada) continue to (reemplazada) (reemplazada) way.\\n\\n'"
      ]
     },
     "execution_count": 28,
     "metadata": {},
     "output_type": "execute_result"
    }
   ],
   "source": [
    "re.sub(r'\\b\\w{5}\\b', \"(reemplazada)\",s)"
   ]
  },
  {
   "cell_type": "markdown",
   "id": "d19b4948-59f5-4d3d-9875-7f0f7e5ac60d",
   "metadata": {},
   "source": [
    "#### Create a Python program to validate and extract IPv4 addresses from a given text."
   ]
  },
  {
   "cell_type": "code",
   "execution_count": 29,
   "id": "2a0082f4-c83b-44fc-a710-ae0dab06bc1d",
   "metadata": {},
   "outputs": [
    {
     "data": {
      "text/plain": [
       "'\\n\\nOnce upon a time, in the enchanted land of Regexville, there lived a group of intrepid explorers.\\nTheir leader, Alice, was known for her love of adventure and her trusty email address, alice@example.com.\\nHer phone number, 123-456-7890, was her lifeline in times of trouble.\\nOne day, Alice received a mysterious letter with today\\'s date: 08/10/2023. The letter hinted at an upcoming quest.\\nThe explorers gathered at the local inn, where they found a weathered map marked with a hashtag: #adventure.\\nThe map pointed to a hidden treasure on the website https://www.treasurehunt.com. The inn\\'s address was 123 Main Street, Regexville, ZIP: 12345-6789.\\nTheir journey took them through the ancient forest, where they stumbled upon a cave with cryptic inscriptions:\\n\"Python is amazing!\" and \"Java is equally fascinating!\" The explorers knew they were on the right path.\\nInside the cave, they found a device with the IP address () and a MAC addres of 00-B0-D0-63-C2-26, which held valuable clues.\\n\\nAmong the explorers, there was a wordsmith who loved finding words with three consecutive vowels:\\n\"boasting,\" \"quizzical,\" \"genuine,\" and \"queue\" were some of his favorites.\\nAs they continued their adventure, they encountered Lorem Ipsum, a lorem ipsum generator who spoke in Latin:\\n\"Lorem ipsum dolor sit amet, consectetur adipiscing elit.\"\\nIn their pursuit, they stumbled upon an ancient book with mysterious ISBN-10 and ISBN-13 numbers:\\nISBN-10: 123456789X and ISBN-13: 978-1234567890.\\nTheir journey was filled with unexpected twists and turns, much like the regex patterns they used to decipher clues.\\nAfter a long day, the explorers gathered around a campfire, sharing tales of their encounters. They realized that every step of their adventure was a puzzle waiting to be solved, just like the regex challenges they had conquered.\\nAs they drifted off to sleep under a starlit sky, they knew that their quest for treasure and knowledge had only just begun, and the magic of Regexville would continue to guide their way.\\n\\n'"
      ]
     },
     "execution_count": 29,
     "metadata": {},
     "output_type": "execute_result"
    }
   ],
   "source": [
    "re.sub(r'\\d{3}\\.\\d{3}\\.\\d{1,3}.\\d{1,3}', \"()\", s)\n"
   ]
  },
  {
   "cell_type": "markdown",
   "id": "9ce5f531-325b-4611-a5c3-b3b98d9eecf3",
   "metadata": {},
   "source": [
    "#### Write a Python program that extracts all the words that end with \"ing\" from a given text."
   ]
  },
  {
   "cell_type": "code",
   "execution_count": 43,
   "id": "65481a0a-c36c-4b2a-a354-0393c98520cc",
   "metadata": {},
   "outputs": [
    {
     "data": {
      "text/plain": [
       "'\\n\\nOnce upon a time, in the enchanted land of Regexville, there lived a group of intrepid explorers.\\nTheir leader, Alice, was known for her love of adventure and her trusty email address, alice@example.com.\\nHer phone number, 123-456-7890, was her lifeline in times of trouble.\\nOne day, Alice received a mysterious letter with today\\'s date: 08/10/2023. The letter hinted at an () quest.\\nThe explorers gathered at the local inn, where they found a weathered map marked with a hashtag: #adventure.\\nThe map pointed to a hidden treasure on the website https://www.treasurehunt.com. The inn\\'s address was 123 Main Street, Regexville, ZIP: 12345-6789.\\nTheir journey took them through the ancient forest, where they stumbled upon a cave with cryptic inscriptions:\\n\"Python is ()!\" and \"Java is equally ()!\" The explorers knew they were on the right path.\\nInside the cave, they found a device with the IP address 192.168.1.1 and a MAC addres of 00-B0-D0-63-C2-26, which held valuable clues.\\n\\nAmong the explorers, there was a wordsmith who loved () words with three consecutive vowels:\\n\"(),\" \"quizzical,\" \"genuine,\" and \"queue\" were some of his favorites.\\nAs they continued their adventure, they encountered Lorem Ipsum, a lorem ipsum generator who spoke in Latin:\\n\"Lorem ipsum dolor sit amet, consectetur () elit.\"\\nIn their pursuit, they stumbled upon an ancient book with mysterious ISBN-10 and ISBN-13 numbers:\\nISBN-10: 123456789X and ISBN-13: 978-1234567890.\\nTheir journey was filled with unexpected twists and turns, much like the regex patterns they used to decipher clues.\\nAfter a long day, the explorers gathered around a campfire, () tales of their encounters. They realized that every step of their adventure was a puzzle () to be solved, just like the regex challenges they had conquered.\\nAs they drifted off to sleep under a starlit sky, they knew that their quest for treasure and knowledge had only just begun, and the magic of Regexville would continue to guide their way.\\n\\n'"
      ]
     },
     "execution_count": 43,
     "metadata": {},
     "output_type": "execute_result"
    }
   ],
   "source": [
    "re.sub(r'\\b\\w*ing', \"()\", s)\n"
   ]
  },
  {
   "cell_type": "markdown",
   "id": "9c26f081-895f-487a-bb3b-b416804dc542",
   "metadata": {},
   "source": [
    "#### Create a Python program to validate and extract MAC addresses (in the format XX:XX:XX:XX:XX:XX) from a given text."
   ]
  },
  {
   "cell_type": "code",
   "execution_count": 32,
   "id": "014b0956-6ef8-46a1-8f0b-635e8bbad63b",
   "metadata": {},
   "outputs": [
    {
     "data": {
      "text/plain": [
       "'\\n\\nOnce upon a time, in the enchanted land of Regexville, there lived a group of intrepid explorers.\\nTheir leader, Alice, was known for her love of adventure and her trusty email address, alice@example.com.\\nHer phone number, 123-456-7890, was her lifeline in times of trouble.\\nOne day, Alice received a mysterious letter with today\\'s date: 08/10/2023. The letter hinted at an upcoming quest.\\nThe explorers gathered at the local inn, where they found a weathered map marked with a hashtag: #adventure.\\nThe map pointed to a hidden treasure on the website https://www.treasurehunt.com. The inn\\'s address was 123 Main Street, Regexville, ZIP: 12345-6789.\\nTheir journey took them through the ancient forest, where they stumbled upon a cave with cryptic inscriptions:\\n\"Python is amazing!\" and \"Java is equally fascinating!\" The explorers knew they were on the right path.\\nInside the cave, they found a device with the IP address 192.168.1.1 and a MAC addres of (), which held valuable clues.\\n\\nAmong the explorers, there was a wordsmith who loved finding words with three consecutive vowels:\\n\"boasting,\" \"quizzical,\" \"genuine,\" and \"queue\" were some of his favorites.\\nAs they continued their adventure, they encountered Lorem Ipsum, a lorem ipsum generator who spoke in Latin:\\n\"Lorem ipsum dolor sit amet, consectetur adipiscing elit.\"\\nIn their pursuit, they stumbled upon an ancient book with mysterious ISBN-10 and ISBN-13 numbers:\\nISBN-10: 123456789X and ISBN-13: 978-1234567890.\\nTheir journey was filled with unexpected twists and turns, much like the regex patterns they used to decipher clues.\\nAfter a long day, the explorers gathered around a campfire, sharing tales of their encounters. They realized that every step of their adventure was a puzzle waiting to be solved, just like the regex challenges they had conquered.\\nAs they drifted off to sleep under a starlit sky, they knew that their quest for treasure and knowledge had only just begun, and the magic of Regexville would continue to guide their way.\\n\\n'"
      ]
     },
     "execution_count": 32,
     "metadata": {},
     "output_type": "execute_result"
    }
   ],
   "source": [
    "re.sub(r'[\\w\\d]{2}[:-][\\w\\d]{2}[:-][\\w\\d]{2}[:-][\\w\\d]{2}[:-][\\w\\d]{2}[:-][\\w\\d]{2}', \"()\", s)"
   ]
  },
  {
   "cell_type": "markdown",
   "id": "8c35b5a8-f658-432b-8d1b-5a55e22e8f0d",
   "metadata": {},
   "source": [
    "### Create a Python program to find all words that are before and after an 'and' from a given text. (x and y)"
   ]
  },
  {
   "cell_type": "code",
   "execution_count": 42,
   "id": "0e574e38-2a2c-44f1-9de4-6aecb43fc09f",
   "metadata": {},
   "outputs": [
    {
     "data": {
      "text/plain": [
       "['adventure and her',\n",
       " '1 and a',\n",
       " '10 and ISBN',\n",
       " '123456789X and ISBN',\n",
       " 'twists and turns',\n",
       " 'treasure and knowledge']"
      ]
     },
     "execution_count": 42,
     "metadata": {},
     "output_type": "execute_result"
    }
   ],
   "source": [
    "re.findall(r'\\b\\w+ and \\w+', s)"
   ]
  },
  {
   "cell_type": "markdown",
   "id": "a07d8752-90da-4990-b23f-1ffc6aa69aa2",
   "metadata": {},
   "source": [
    "### Create a Python program to find all words from a given text that start and end with the same letter and it is not a vowel."
   ]
  },
  {
   "cell_type": "code",
   "execution_count": 45,
   "id": "03ef0e95-c639-4fbe-981f-766bb609139c",
   "metadata": {},
   "outputs": [
    {
     "data": {
      "text/plain": [
       "['l', 'w', 't', 'c', '0', 't', 'd', 't']"
      ]
     },
     "execution_count": 45,
     "metadata": {},
     "output_type": "execute_result"
    }
   ],
   "source": [
    "re.findall(r'\\b([^aeiou \\\\\\/\\.\\-])\\w*\\1\\b', s)\n"
   ]
  },
  {
   "cell_type": "markdown",
   "id": "fd0e6711-e4a8-4888-a728-ccbf8d4cfe5b",
   "metadata": {},
   "source": [
    "### Create a Python program to find all 'lorem ipsum' appearances (not cap sensitive) from a given text.\n"
   ]
  },
  {
   "cell_type": "code",
   "execution_count": 47,
   "id": "4e02e4e2-a3da-4035-baf9-83dd3d8cae7c",
   "metadata": {},
   "outputs": [
    {
     "data": {
      "text/plain": [
       "['Lorem Ipsum', 'lorem ipsum', 'Lorem ipsum']"
      ]
     },
     "execution_count": 47,
     "metadata": {},
     "output_type": "execute_result"
    }
   ],
   "source": [
    "re.findall(r'[Ll]orem [iI]psum', s)\n"
   ]
  },
  {
   "cell_type": "markdown",
   "id": "8e6da507-9e18-40db-bfd0-a7f63fd17014",
   "metadata": {},
   "source": [
    "### Create a Python program to find all repeating equal consonants from a given text. (nn, tt, ...)\n"
   ]
  },
  {
   "cell_type": "code",
   "execution_count": 48,
   "id": "8354727f-c31b-4f2a-8044-316a8bb7cbd6",
   "metadata": {},
   "outputs": [
    {
     "data": {
      "text/plain": [
       "[('l', 'l'),\n",
       " ('d', 'd'),\n",
       " ('s', 's'),\n",
       " ('t', 't'),\n",
       " ('t', 't'),\n",
       " ('n', 'n'),\n",
       " ('d', 'd'),\n",
       " ('t', 't'),\n",
       " ('/', '/'),\n",
       " ('w', 'w'),\n",
       " ('n', 'n'),\n",
       " ('d', 'd'),\n",
       " ('s', 's'),\n",
       " ('l', 'l'),\n",
       " ('l', 'l'),\n",
       " ('d', 'd'),\n",
       " ('s', 's'),\n",
       " ('d', 'd'),\n",
       " ('0', '0'),\n",
       " ('z', 'z'),\n",
       " ('l', 'l'),\n",
       " ('t', 't'),\n",
       " ('z', 'z'),\n",
       " ('l', 'l'),\n",
       " ('f', 'f'),\n",
       " ('l', 'l')]"
      ]
     },
     "execution_count": 48,
     "metadata": {},
     "output_type": "execute_result"
    }
   ],
   "source": [
    "re.findall(r'([^aeiou\\-\\s])(\\1)', s)\n"
   ]
  }
 ],
 "metadata": {
  "kernelspec": {
   "display_name": "Python 3 (ipykernel)",
   "language": "python",
   "name": "python3"
  },
  "language_info": {
   "codemirror_mode": {
    "name": "ipython",
    "version": 3
   },
   "file_extension": ".py",
   "mimetype": "text/x-python",
   "name": "python",
   "nbconvert_exporter": "python",
   "pygments_lexer": "ipython3",
   "version": "3.11.9"
  }
 },
 "nbformat": 4,
 "nbformat_minor": 5
}
